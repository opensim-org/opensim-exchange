{
  "nbformat": 4,
  "nbformat_minor": 0,
  "metadata": {
    "colab": {
      "name": "Copy of testPendulumSwing.ipynb",
      "provenance": [],
      "collapsed_sections": []
    },
    "kernelspec": {
      "name": "python3",
      "display_name": "Python 3"
    },
    "language_info": {
      "name": "python"
    }
  },
  "cells": [
    {
      "cell_type": "code",
      "execution_count": null,
      "metadata": {
        "colab": {
          "base_uri": "https://localhost:8080/"
        },
        "id": "hXS4NEKMp29Q",
        "outputId": "ada50457-90d6-476b-e89f-e85a548d9558"
      },
      "outputs": [
        {
          "output_type": "stream",
          "name": "stdout",
          "text": [
            "⏬ Downloading https://github.com/jaimergp/miniforge/releases/latest/download/Mambaforge-colab-Linux-x86_64.sh...\n",
            "📦 Installing...\n",
            "📌 Adjusting configuration...\n",
            "🩹 Patching environment...\n",
            "⏲ Done in 0:00:47\n",
            "🔁 Restarting kernel...\n"
          ]
        }
      ],
      "source": [
        "#!conda --version\n",
        "#If !conda --version returns no results, install conda with uncommenting the next three lines:\n",
        "!pip install -q condacolab\n",
        "import condacolab\n",
        "condacolab.install()\n",
        "\n",
        "\n"
      ]
    },
    {
      "cell_type": "code",
      "source": [
        "!conda install -c opensim-org opensim\n"
      ],
      "metadata": {
        "colab": {
          "base_uri": "https://localhost:8080/"
        },
        "id": "Soa2ui-nq_4n",
        "outputId": "ddec67a5-2db1-44e4-88aa-abf657192a11"
      },
      "execution_count": null,
      "outputs": [
        {
          "output_type": "stream",
          "name": "stdout",
          "text": [
            "Collecting package metadata (current_repodata.json): - \b\b\\ \b\b| \b\b/ \b\b- \b\b\\ \b\b| \b\b/ \b\b- \b\b\\ \b\b| \b\b/ \b\b- \b\b\\ \b\b| \b\b/ \b\b- \b\b\\ \b\b| \b\b/ \b\b- \b\b\\ \b\b| \b\b/ \b\b- \b\b\\ \b\b| \b\b/ \b\b- \b\b\\ \b\b| \b\b/ \b\b- \b\b\\ \b\b| \b\b/ \b\b- \b\b\\ \b\b| \b\b/ \b\b- \b\b\\ \b\b| \b\b/ \b\b- \b\b\\ \b\b| \b\b/ \b\b- \b\b\\ \b\b| \b\b/ \b\b- \b\b\\ \b\b| \b\b/ \b\b- \b\b\\ \b\b| \b\b/ \b\b- \b\b\\ \b\b| \b\b/ \b\b- \b\b\\ \b\b| \b\b/ \b\b- \b\b\\ \b\b| \b\b/ \b\b- \b\b\\ \b\b| \b\b/ \b\b- \b\b\\ \b\b| \b\b/ \b\b- \b\b\\ \b\b| \b\b/ \b\b- \b\b\\ \b\b| \b\bdone\n",
            "Solving environment: - \b\b\\ \b\b| \b\b/ \b\b- \b\b\\ \b\b| \b\b/ \b\b- \b\b\\ \b\b| \b\b/ \b\b- \b\b\\ \b\b| \b\b/ \b\b- \b\b\\ \b\b| \b\b/ \b\b- \b\b\\ \b\b| \b\bdone\n",
            "\n",
            "## Package Plan ##\n",
            "\n",
            "  environment location: /usr/local\n",
            "\n",
            "  added / updated specs:\n",
            "    - opensim\n",
            "\n",
            "\n",
            "The following packages will be downloaded:\n",
            "\n",
            "    package                    |            build\n",
            "    ---------------------------|-----------------\n",
            "    ca-certificates-2022.6.15  |       ha878542_0         149 KB  conda-forge\n",
            "    certifi-2022.6.15          |   py37h89c1867_0         155 KB  conda-forge\n",
            "    conda-4.13.0               |   py37h89c1867_1         989 KB  conda-forge\n",
            "    libblas-3.9.0              |5_h92ddd45_netlib         202 KB  conda-forge\n",
            "    libcblas-3.9.0             |5_h92ddd45_netlib          54 KB  conda-forge\n",
            "    libgfortran-3.0.0          |                1         281 KB  conda-forge\n",
            "    libgfortran-ng-12.1.0      |      h69a702a_16          23 KB  conda-forge\n",
            "    libgfortran5-12.1.0        |      hdcd56e2_16         1.8 MB  conda-forge\n",
            "    liblapack-3.9.0            |5_h92ddd45_netlib         3.0 MB  conda-forge\n",
            "    numpy-1.20.3               |   py37h038b26d_1         5.7 MB  conda-forge\n",
            "    openblas-0.3.3             |       ha44fe06_1        13.7 MB  conda-forge\n",
            "    opensim-4.4                |        py37np120        68.7 MB  opensim-org\n",
            "    python_abi-3.7             |          2_cp37m           4 KB  conda-forge\n",
            "    ------------------------------------------------------------\n",
            "                                           Total:        94.6 MB\n",
            "\n",
            "The following NEW packages will be INSTALLED:\n",
            "\n",
            "  libblas            conda-forge/linux-64::libblas-3.9.0-5_h92ddd45_netlib\n",
            "  libcblas           conda-forge/linux-64::libcblas-3.9.0-5_h92ddd45_netlib\n",
            "  libgfortran        conda-forge/linux-64::libgfortran-3.0.0-1\n",
            "  libgfortran-ng     conda-forge/linux-64::libgfortran-ng-12.1.0-h69a702a_16\n",
            "  libgfortran5       conda-forge/linux-64::libgfortran5-12.1.0-hdcd56e2_16\n",
            "  liblapack          conda-forge/linux-64::liblapack-3.9.0-5_h92ddd45_netlib\n",
            "  numpy              conda-forge/linux-64::numpy-1.20.3-py37h038b26d_1\n",
            "  openblas           conda-forge/linux-64::openblas-0.3.3-ha44fe06_1\n",
            "  opensim            opensim-org/linux-64::opensim-4.4-py37np120\n",
            "\n",
            "The following packages will be UPDATED:\n",
            "\n",
            "  ca-certificates                      2020.12.5-ha878542_0 --> 2022.6.15-ha878542_0\n",
            "  certifi                          2020.12.5-py37h89c1867_1 --> 2022.6.15-py37h89c1867_0\n",
            "  conda                                4.9.2-py37h89c1867_0 --> 4.13.0-py37h89c1867_1\n",
            "  python_abi                                    3.7-1_cp37m --> 3.7-2_cp37m\n",
            "\n",
            "\n",
            "\n",
            "Downloading and Extracting Packages\n",
            "certifi-2022.6.15    | 155 KB    | : 100% 1.0/1 [00:00<00:00, 10.85it/s]\n",
            "numpy-1.20.3         | 5.7 MB    | : 100% 1.0/1 [00:01<00:00,  1.62s/it]\n",
            "python_abi-3.7       | 4 KB      | : 100% 1.0/1 [00:00<00:00, 32.44it/s]\n",
            "liblapack-3.9.0      | 3.0 MB    | : 100% 1.0/1 [00:00<00:00,  1.45it/s]\n",
            "libgfortran-ng-12.1. | 23 KB     | : 100% 1.0/1 [00:00<00:00, 25.94it/s]\n",
            "libgfortran5-12.1.0  | 1.8 MB    | : 100% 1.0/1 [00:00<00:00,  2.29it/s]\n",
            "libcblas-3.9.0       | 54 KB     | : 100% 1.0/1 [00:00<00:00, 24.01it/s]\n",
            "ca-certificates-2022 | 149 KB    | : 100% 1.0/1 [00:00<00:00, 20.91it/s]\n",
            "openblas-0.3.3       | 13.7 MB   | : 100% 1.0/1 [00:04<00:00,  4.12s/it]\n",
            "libblas-3.9.0        | 202 KB    | : 100% 1.0/1 [00:00<00:00, 15.31it/s]\n",
            "libgfortran-3.0.0    | 281 KB    | : 100% 1.0/1 [00:00<00:00, 11.47it/s]\n",
            "opensim-4.4          | 68.7 MB   | : 100% 1.0/1 [00:22<00:00, 22.48s/it]\n",
            "conda-4.13.0         | 989 KB    | : 100% 1.0/1 [00:00<00:00,  1.94it/s]\n",
            "Preparing transaction: - \b\b\\ \b\bdone\n",
            "Verifying transaction: / \b\b- \b\b\\ \b\b| \b\b/ \b\b- \b\b\\ \b\b| \b\b/ \b\b- \b\b\\ \b\b| \b\b/ \b\b- \b\b\\ \b\b| \b\b/ \b\bdone\n",
            "Executing transaction: \\ \b\b| \b\b/ \b\b- \b\b\\ \b\bdone\n"
          ]
        }
      ]
    },
    {
      "cell_type": "markdown",
      "source": [
        ""
      ],
      "metadata": {
        "id": "DiP6nrXnsxlV"
      }
    },
    {
      "cell_type": "markdown",
      "source": [
        "The following line/cell imports opensim module and if successful shows the current version and build date (**should be 4.4**)\n"
      ],
      "metadata": {
        "id": "TDQ7EpBxZpco"
      }
    },
    {
      "cell_type": "code",
      "source": [
        "import opensim as osim\n",
        "osim.GetVersionAndDate()"
      ],
      "metadata": {
        "id": "Q-kqxhn_ZbEP",
        "outputId": "8afa13fd-08d4-41ed-cb4b-d9e7ab8a4b2a",
        "colab": {
          "base_uri": "https://localhost:8080/",
          "height": 35
        }
      },
      "execution_count": null,
      "outputs": [
        {
          "output_type": "execute_result",
          "data": {
            "text/plain": [
              "'version 4.4, build date 23:28:47 Jul 25 2022'"
            ],
            "application/vnd.google.colaboratory.intrinsic+json": {
              "type": "string"
            }
          },
          "metadata": {},
          "execution_count": 2
        }
      ]
    },
    {
      "cell_type": "code",
      "source": [
        "import opensim as osim\n",
        "pendulum = osim.ModelFactory_createPendulum()\n",
        "bodyKinematics = osim.BodyKinematics(pendulum)\n",
        "bodyKinematics.setName(\"BodyKinematics_fall\")\n",
        "pendulum.addAnalysis(bodyKinematics)\n",
        "s = pendulum.initSystem()\n",
        "manager = osim.Manager(pendulum)\n",
        "manager.initialize(s)\n",
        "s = manager.integrate(2.0)\n",
        "statesTable = manager.getStatesTable()"
      ],
      "metadata": {
        "id": "yQ6TqM6cr-3N"
      },
      "execution_count": null,
      "outputs": []
    },
    {
      "cell_type": "code",
      "source": [
        "times = statesTable.getIndependentColumn()\n",
        "positions = statesTable.getDependentColumn('/jointset/j0/q0/value')\n",
        "\n",
        "\n",
        "\n",
        "\n"
      ],
      "metadata": {
        "id": "jvsig7YesJgD"
      },
      "execution_count": null,
      "outputs": []
    },
    {
      "cell_type": "code",
      "source": [
        "import matplotlib.pyplot as plt\n",
        "import numpy as np\n",
        "\n",
        "# Data for plotting time against swinging pendulum\n",
        "plt.plot(times, positions.to_numpy())\n"
      ],
      "metadata": {
        "id": "QPFC-ebbNVJH",
        "outputId": "ab9e038b-9376-4fe2-a9a0-eb2505f80f15",
        "colab": {
          "base_uri": "https://localhost:8080/",
          "height": 282
        }
      },
      "execution_count": null,
      "outputs": [
        {
          "output_type": "execute_result",
          "data": {
            "text/plain": [
              "[<matplotlib.lines.Line2D at 0x7fb9bbe3d750>]"
            ]
          },
          "metadata": {},
          "execution_count": 37
        },
        {
          "output_type": "display_data",
          "data": {
            "text/plain": [
              "<Figure size 432x288 with 1 Axes>"
            ],
            "image/png": "[encoded data removed]"
          },
          "metadata": {
            "needs_background": "light"
          }
        }
      ]
    }
  ]
}